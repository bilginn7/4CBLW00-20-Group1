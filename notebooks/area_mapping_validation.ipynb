{
 "cells": [
  {
   "metadata": {},
   "cell_type": "markdown",
   "source": "# Validation of mapped area dataset",
   "id": "a7673fb33174c72c"
  },
  {
   "cell_type": "code",
   "id": "initial_id",
   "metadata": {
    "collapsed": true,
    "ExecuteTime": {
     "end_time": "2025-05-09T11:31:23.184472Z",
     "start_time": "2025-05-09T11:31:23.179372Z"
    }
   },
   "source": [
    "import polars as pl\n",
    "pl.enable_string_cache()"
   ],
   "outputs": [],
   "execution_count": 11
  },
  {
   "metadata": {
    "ExecuteTime": {
     "end_time": "2025-05-09T11:31:39.532428Z",
     "start_time": "2025-05-09T11:31:38.652758Z"
    }
   },
   "cell_type": "code",
   "source": [
    "df = pl.scan_parquet(\"data/uk_areas_lookup.parquet\").lazy()\n",
    "df.describe()"
   ],
   "id": "b5484e18c6918266",
   "outputs": [
    {
     "data": {
      "text/plain": [
       "shape: (9, 12)\n",
       "┌────────────┬────────┬──────────┬───────────┬───┬────────┬─────────┬─────────┬─────────┐\n",
       "│ statistic  ┆ OA21CD ┆ LSOA21CD ┆ LSOA21NM  ┆ … ┆ WD24CD ┆ WD24NM  ┆ LAD22CD ┆ LAD22NM │\n",
       "│ ---        ┆ ---    ┆ ---      ┆ ---       ┆   ┆ ---    ┆ ---     ┆ ---     ┆ ---     │\n",
       "│ str        ┆ str    ┆ str      ┆ str       ┆   ┆ str    ┆ str     ┆ str     ┆ str     │\n",
       "╞════════════╪════════╪══════════╪═══════════╪═══╪════════╪═════════╪═════════╪═════════╡\n",
       "│ count      ┆ 189944 ┆ 189944   ┆ 189944    ┆ … ┆ 189944 ┆ 189944  ┆ 189944  ┆ 189944  │\n",
       "│ null_count ┆ 0      ┆ 0        ┆ 0         ┆ … ┆ 0      ┆ 0       ┆ 0       ┆ 0       │\n",
       "│ mean       ┆ null   ┆ null     ┆ null      ┆ … ┆ null   ┆ null    ┆ null    ┆ null    │\n",
       "│ std        ┆ null   ┆ null     ┆ null      ┆ … ┆ null   ┆ null    ┆ null    ┆ null    │\n",
       "│ min        ┆ null   ┆ null     ┆ Adur 001A ┆ … ┆ null   ┆ Abbey   ┆ null    ┆ Adur    │\n",
       "│ 25%        ┆ null   ┆ null     ┆ null      ┆ … ┆ null   ┆ null    ┆ null    ┆ null    │\n",
       "│ 50%        ┆ null   ┆ null     ┆ null      ┆ … ┆ null   ┆ null    ┆ null    ┆ null    │\n",
       "│ 75%        ┆ null   ┆ null     ┆ null      ┆ … ┆ null   ┆ null    ┆ null    ┆ null    │\n",
       "│ max        ┆ null   ┆ null     ┆ York 024F ┆ … ┆ null   ┆ Zetland ┆ null    ┆ York    │\n",
       "└────────────┴────────┴──────────┴───────────┴───┴────────┴─────────┴─────────┴─────────┘"
      ],
      "text/html": [
       "<div><style>\n",
       ".dataframe > thead > tr,\n",
       ".dataframe > tbody > tr {\n",
       "  text-align: right;\n",
       "  white-space: pre-wrap;\n",
       "}\n",
       "</style>\n",
       "<small>shape: (9, 12)</small><table border=\"1\" class=\"dataframe\"><thead><tr><th>statistic</th><th>OA21CD</th><th>LSOA21CD</th><th>LSOA21NM</th><th>LSOA11CD</th><th>CHGIND</th><th>MSOA21CD</th><th>MSOA21NM</th><th>WD24CD</th><th>WD24NM</th><th>LAD22CD</th><th>LAD22NM</th></tr><tr><td>str</td><td>str</td><td>str</td><td>str</td><td>str</td><td>str</td><td>str</td><td>str</td><td>str</td><td>str</td><td>str</td><td>str</td></tr></thead><tbody><tr><td>&quot;count&quot;</td><td>&quot;189944&quot;</td><td>&quot;189944&quot;</td><td>&quot;189944&quot;</td><td>&quot;189944&quot;</td><td>&quot;189944&quot;</td><td>&quot;189944&quot;</td><td>&quot;189944&quot;</td><td>&quot;189944&quot;</td><td>&quot;189944&quot;</td><td>&quot;189944&quot;</td><td>&quot;189944&quot;</td></tr><tr><td>&quot;null_count&quot;</td><td>&quot;0&quot;</td><td>&quot;0&quot;</td><td>&quot;0&quot;</td><td>&quot;0&quot;</td><td>&quot;0&quot;</td><td>&quot;0&quot;</td><td>&quot;0&quot;</td><td>&quot;0&quot;</td><td>&quot;0&quot;</td><td>&quot;0&quot;</td><td>&quot;0&quot;</td></tr><tr><td>&quot;mean&quot;</td><td>null</td><td>null</td><td>null</td><td>null</td><td>null</td><td>null</td><td>null</td><td>null</td><td>null</td><td>null</td><td>null</td></tr><tr><td>&quot;std&quot;</td><td>null</td><td>null</td><td>null</td><td>null</td><td>null</td><td>null</td><td>null</td><td>null</td><td>null</td><td>null</td><td>null</td></tr><tr><td>&quot;min&quot;</td><td>null</td><td>null</td><td>&quot;Adur 001A&quot;</td><td>null</td><td>null</td><td>null</td><td>&quot;Adur 001&quot;</td><td>null</td><td>&quot;Abbey&quot;</td><td>null</td><td>&quot;Adur&quot;</td></tr><tr><td>&quot;25%&quot;</td><td>null</td><td>null</td><td>null</td><td>null</td><td>null</td><td>null</td><td>null</td><td>null</td><td>null</td><td>null</td><td>null</td></tr><tr><td>&quot;50%&quot;</td><td>null</td><td>null</td><td>null</td><td>null</td><td>null</td><td>null</td><td>null</td><td>null</td><td>null</td><td>null</td><td>null</td></tr><tr><td>&quot;75%&quot;</td><td>null</td><td>null</td><td>null</td><td>null</td><td>null</td><td>null</td><td>null</td><td>null</td><td>null</td><td>null</td><td>null</td></tr><tr><td>&quot;max&quot;</td><td>null</td><td>null</td><td>&quot;York 024F&quot;</td><td>null</td><td>null</td><td>null</td><td>&quot;York 024&quot;</td><td>null</td><td>&quot;Zetland&quot;</td><td>null</td><td>&quot;York&quot;</td></tr></tbody></table></div>"
      ]
     },
     "execution_count": 16,
     "metadata": {},
     "output_type": "execute_result"
    }
   ],
   "execution_count": 16
  },
  {
   "metadata": {
    "ExecuteTime": {
     "end_time": "2025-05-09T11:31:41.548748Z",
     "start_time": "2025-05-09T11:31:41.374494Z"
    }
   },
   "cell_type": "code",
   "source": [
    "summary = (\n",
    "    df.select([\n",
    "        pl.col(\"OA21CD\").n_unique().alias(\"OA_2021\"),\n",
    "        pl.col(\"LSOA21CD\").n_unique().alias(\"LSOA_2021\"),\n",
    "        pl.col(\"MSOA21CD\").n_unique().alias(\"MSOA_2021\"),\n",
    "        pl.col(\"WD24CD\").n_unique().alias(\"Ward_2024\"),\n",
    "        pl.col(\"LAD22CD\").n_unique().alias(\"LAD_2022\"),\n",
    "        pl.when(pl.col(\"CHGIND\") == \"U\")\n",
    "          .then(pl.col(\"LSOA21CD\"))\n",
    "          .n_unique()\n",
    "          .alias(\"LSOA_unchanged\")\n",
    "    ])\n",
    "    .collect()\n",
    ")\n",
    "\n",
    "oa_count = summary[0, 0]\n",
    "lsoa_count = summary[0, 1]\n",
    "msoa_count = summary[0, 2]\n",
    "ward_count = summary[0, 3]\n",
    "lad_count = summary[0, 4]\n",
    "unchanged_lsoa_count = summary[0, 5]\n",
    "\n",
    "print(f\"OA2021       : {oa_count:,}\")\n",
    "print(f\"LSOA2021     : {lsoa_count:,}\")\n",
    "print(f\"MSOA2021     : {msoa_count:,}\")\n",
    "print(f\"Ward2024     : {ward_count:,}\")\n",
    "print(f\"LAD2022      : {lad_count:,}\")\n",
    "print(f\"Unchanged LSOA: {unchanged_lsoa_count:,}\")"
   ],
   "id": "e49ab4c29bb152b",
   "outputs": [
    {
     "name": "stdout",
     "output_type": "stream",
     "text": [
      "OA2021       : 188,880\n",
      "LSOA2021     : 35,672\n",
      "MSOA2021     : 7,264\n",
      "Ward2024     : 7,536\n",
      "LAD2022      : 331\n",
      "Unchanged LSOA: 33,648\n"
     ]
    }
   ],
   "execution_count": 17
  },
  {
   "metadata": {
    "ExecuteTime": {
     "end_time": "2025-05-09T11:31:42.792909Z",
     "start_time": "2025-05-09T11:31:42.744133Z"
    }
   },
   "cell_type": "code",
   "source": [
    "london_summary = (\n",
    "    df.filter(\n",
    "        (pl.col(\"LAD22CD\").cast(pl.Utf8).str.starts_with(\"E09\")) |\n",
    "        (pl.col(\"LAD22NM\").cast(pl.Utf8).str.contains(\"London\"))\n",
    "    )\n",
    "    .select([\n",
    "        pl.col(\"OA21CD\").n_unique().alias(\"London_OA_2021\"),\n",
    "        pl.col(\"LSOA21CD\").n_unique().alias(\"London_LSOA_2021\"),\n",
    "        pl.col(\"MSOA21CD\").n_unique().alias(\"London_MSOA_2021\"),\n",
    "        pl.col(\"WD24CD\").n_unique().alias(\"London_Ward_2024\"),\n",
    "        pl.when(pl.col(\"CHGIND\") == \"U\")\n",
    "          .then(pl.col(\"LSOA21CD\"))\n",
    "          .n_unique()\n",
    "          .alias(\"London_LSOA_unchanged\")\n",
    "    ])\n",
    "    .collect()\n",
    ")\n",
    "\n",
    "# Extract the London counts\n",
    "london_oa_count = london_summary[0, 0]\n",
    "london_lsoa_count = london_summary[0, 1]\n",
    "london_msoa_count = london_summary[0, 2]\n",
    "london_ward_count = london_summary[0, 3]\n",
    "london_unchanged_lsoa_count = london_summary[0, 4]\n",
    "\n",
    "# Print the existing counts\n",
    "print(\"United Kingdom Statistics:\")\n",
    "print(f\"OA2021       : {oa_count:,}\")\n",
    "print(f\"LSOA2021     : {lsoa_count:,}\")\n",
    "print(f\"MSOA2021     : {msoa_count:,}\")\n",
    "print(f\"Ward2024     : {ward_count:,}\")\n",
    "print(f\"LAD2022      : {lad_count:,}\")\n",
    "print(f\"Unchanged LSOA: {unchanged_lsoa_count:,}\")\n",
    "\n",
    "# Print the London-specific counts\n",
    "print(\"\\nLondon Statistics:\")\n",
    "print(f\"London OA2021       : {london_oa_count:,}\")\n",
    "print(f\"London LSOA2021     : {london_lsoa_count:,}\")\n",
    "print(f\"London MSOA2021     : {london_msoa_count:,}\")\n",
    "print(f\"London Ward2024     : {london_ward_count:,}\")\n",
    "print(f\"London Unchanged LSOA: {london_unchanged_lsoa_count:,}\")\n",
    "\n",
    "# Calculate and print percentages\n",
    "print(\"\\nLondon Percentages:\")\n",
    "print(f\"London OAs        : {london_oa_count/oa_count:.1%} of all OAs\")\n",
    "print(f\"London LSOAs      : {london_lsoa_count/lsoa_count:.1%} of all LSOAs\")\n",
    "print(f\"London MSOAs      : {london_msoa_count/msoa_count:.1%} of all MSOAs\")\n",
    "print(f\"London Wards      : {london_ward_count/ward_count:.1%} of all Wards\")"
   ],
   "id": "91c865669fa5e7b8",
   "outputs": [
    {
     "name": "stdout",
     "output_type": "stream",
     "text": [
      "United Kingdom Statistics:\n",
      "OA2021       : 188,880\n",
      "LSOA2021     : 35,672\n",
      "MSOA2021     : 7,264\n",
      "Ward2024     : 7,536\n",
      "LAD2022      : 331\n",
      "Unchanged LSOA: 33,648\n",
      "\n",
      "London Statistics:\n",
      "London OA2021       : 26,369\n",
      "London LSOA2021     : 4,994\n",
      "London MSOA2021     : 1,002\n",
      "London Ward2024     : 684\n",
      "London Unchanged LSOA: 4,660\n",
      "\n",
      "London Percentages:\n",
      "London OAs        : 14.0% of all OAs\n",
      "London LSOAs      : 14.0% of all LSOAs\n",
      "London MSOAs      : 13.8% of all MSOAs\n",
      "London Wards      : 9.1% of all Wards\n"
     ]
    }
   ],
   "execution_count": 18
  },
  {
   "metadata": {
    "ExecuteTime": {
     "end_time": "2025-05-09T11:32:24.185713Z",
     "start_time": "2025-05-09T11:32:24.101633Z"
    }
   },
   "cell_type": "code",
   "source": [
    "london = pl.scan_parquet(\"data/london_areas_lookup.parquet\").lazy()\n",
    "london.describe()"
   ],
   "id": "f993da2179ed49ad",
   "outputs": [
    {
     "data": {
      "text/plain": [
       "shape: (9, 12)\n",
       "┌────────────┬────────┬──────────┬───────────────┬───┬────────┬──────────┬─────────┬───────────────┐\n",
       "│ statistic  ┆ OA21CD ┆ LSOA21CD ┆ LSOA21NM      ┆ … ┆ WD24CD ┆ WD24NM   ┆ LAD22CD ┆ LAD22NM       │\n",
       "│ ---        ┆ ---    ┆ ---      ┆ ---           ┆   ┆ ---    ┆ ---      ┆ ---     ┆ ---           │\n",
       "│ str        ┆ str    ┆ str      ┆ str           ┆   ┆ str    ┆ str      ┆ str     ┆ str           │\n",
       "╞════════════╪════════╪══════════╪═══════════════╪═══╪════════╪══════════╪═════════╪═══════════════╡\n",
       "│ count      ┆ 26559  ┆ 26559    ┆ 26559         ┆ … ┆ 26559  ┆ 26559    ┆ 26559   ┆ 26559         │\n",
       "│ null_count ┆ 0      ┆ 0        ┆ 0             ┆ … ┆ 0      ┆ 0        ┆ 0       ┆ 0             │\n",
       "│ mean       ┆ null   ┆ null     ┆ null          ┆ … ┆ null   ┆ null     ┆ null    ┆ null          │\n",
       "│ std        ┆ null   ┆ null     ┆ null          ┆ … ┆ null   ┆ null     ┆ null    ┆ null          │\n",
       "│ min        ┆ null   ┆ null     ┆ Barking and   ┆ … ┆ null   ┆ Abbey    ┆ null    ┆ Barking and   │\n",
       "│            ┆        ┆          ┆ Dagenham 001A ┆   ┆        ┆          ┆         ┆ Dagenham      │\n",
       "│ 25%        ┆ null   ┆ null     ┆ null          ┆ … ┆ null   ┆ null     ┆ null    ┆ null          │\n",
       "│ 50%        ┆ null   ┆ null     ┆ null          ┆ … ┆ null   ┆ null     ┆ null    ┆ null          │\n",
       "│ 75%        ┆ null   ┆ null     ┆ null          ┆ … ┆ null   ┆ null     ┆ null    ┆ null          │\n",
       "│ max        ┆ null   ┆ null     ┆ Westminster   ┆ … ┆ null   ┆ Yiewsley ┆ null    ┆ Westminster   │\n",
       "│            ┆        ┆          ┆ 024G          ┆   ┆        ┆          ┆         ┆               │\n",
       "└────────────┴────────┴──────────┴───────────────┴───┴────────┴──────────┴─────────┴───────────────┘"
      ],
      "text/html": [
       "<div><style>\n",
       ".dataframe > thead > tr,\n",
       ".dataframe > tbody > tr {\n",
       "  text-align: right;\n",
       "  white-space: pre-wrap;\n",
       "}\n",
       "</style>\n",
       "<small>shape: (9, 12)</small><table border=\"1\" class=\"dataframe\"><thead><tr><th>statistic</th><th>OA21CD</th><th>LSOA21CD</th><th>LSOA21NM</th><th>LSOA11CD</th><th>CHGIND</th><th>MSOA21CD</th><th>MSOA21NM</th><th>WD24CD</th><th>WD24NM</th><th>LAD22CD</th><th>LAD22NM</th></tr><tr><td>str</td><td>str</td><td>str</td><td>str</td><td>str</td><td>str</td><td>str</td><td>str</td><td>str</td><td>str</td><td>str</td><td>str</td></tr></thead><tbody><tr><td>&quot;count&quot;</td><td>&quot;26559&quot;</td><td>&quot;26559&quot;</td><td>&quot;26559&quot;</td><td>&quot;26559&quot;</td><td>&quot;26559&quot;</td><td>&quot;26559&quot;</td><td>&quot;26559&quot;</td><td>&quot;26559&quot;</td><td>&quot;26559&quot;</td><td>&quot;26559&quot;</td><td>&quot;26559&quot;</td></tr><tr><td>&quot;null_count&quot;</td><td>&quot;0&quot;</td><td>&quot;0&quot;</td><td>&quot;0&quot;</td><td>&quot;0&quot;</td><td>&quot;0&quot;</td><td>&quot;0&quot;</td><td>&quot;0&quot;</td><td>&quot;0&quot;</td><td>&quot;0&quot;</td><td>&quot;0&quot;</td><td>&quot;0&quot;</td></tr><tr><td>&quot;mean&quot;</td><td>null</td><td>null</td><td>null</td><td>null</td><td>null</td><td>null</td><td>null</td><td>null</td><td>null</td><td>null</td><td>null</td></tr><tr><td>&quot;std&quot;</td><td>null</td><td>null</td><td>null</td><td>null</td><td>null</td><td>null</td><td>null</td><td>null</td><td>null</td><td>null</td><td>null</td></tr><tr><td>&quot;min&quot;</td><td>null</td><td>null</td><td>&quot;Barking and Dagenham 001A&quot;</td><td>null</td><td>null</td><td>null</td><td>&quot;Barking and Dagenham 001&quot;</td><td>null</td><td>&quot;Abbey&quot;</td><td>null</td><td>&quot;Barking and Dagenham&quot;</td></tr><tr><td>&quot;25%&quot;</td><td>null</td><td>null</td><td>null</td><td>null</td><td>null</td><td>null</td><td>null</td><td>null</td><td>null</td><td>null</td><td>null</td></tr><tr><td>&quot;50%&quot;</td><td>null</td><td>null</td><td>null</td><td>null</td><td>null</td><td>null</td><td>null</td><td>null</td><td>null</td><td>null</td><td>null</td></tr><tr><td>&quot;75%&quot;</td><td>null</td><td>null</td><td>null</td><td>null</td><td>null</td><td>null</td><td>null</td><td>null</td><td>null</td><td>null</td><td>null</td></tr><tr><td>&quot;max&quot;</td><td>null</td><td>null</td><td>&quot;Westminster 024G&quot;</td><td>null</td><td>null</td><td>null</td><td>&quot;Westminster 024&quot;</td><td>null</td><td>&quot;Yiewsley&quot;</td><td>null</td><td>&quot;Westminster&quot;</td></tr></tbody></table></div>"
      ]
     },
     "execution_count": 19,
     "metadata": {},
     "output_type": "execute_result"
    }
   ],
   "execution_count": 19
  },
  {
   "metadata": {
    "ExecuteTime": {
     "end_time": "2025-05-09T11:33:09.408331Z",
     "start_time": "2025-05-09T11:33:09.373663Z"
    }
   },
   "cell_type": "code",
   "source": [
    "l_summary = (\n",
    "    london.select([\n",
    "        pl.col(\"OA21CD\").n_unique().alias(\"OA_2021\"),\n",
    "        pl.col(\"LSOA21CD\").n_unique().alias(\"LSOA_2021\"),\n",
    "        pl.col(\"MSOA21CD\").n_unique().alias(\"MSOA_2021\"),\n",
    "        pl.col(\"WD24CD\").n_unique().alias(\"Ward_2024\"),\n",
    "        pl.col(\"LAD22CD\").n_unique().alias(\"LAD_2022\"),\n",
    "        pl.when(pl.col(\"CHGIND\") == \"U\")\n",
    "          .then(pl.col(\"LSOA21CD\"))\n",
    "          .n_unique()\n",
    "          .alias(\"LSOA_unchanged\")\n",
    "    ])\n",
    "    .collect()\n",
    ")\n",
    "\n",
    "oa_count = l_summary[0, 0]\n",
    "lsoa_count = l_summary[0, 1]\n",
    "msoa_count = l_summary[0, 2]\n",
    "ward_count = l_summary[0, 3]\n",
    "lad_count = l_summary[0, 4]\n",
    "unchanged_lsoa_count = l_summary[0, 5]\n",
    "\n",
    "print(f\"OA2021       : {oa_count:,}\")\n",
    "print(f\"LSOA2021     : {lsoa_count:,}\")\n",
    "print(f\"MSOA2021     : {msoa_count:,}\")\n",
    "print(f\"Ward2024     : {ward_count:,}\")\n",
    "print(f\"LAD2022      : {lad_count:,}\")\n",
    "print(f\"Unchanged LSOA: {unchanged_lsoa_count:,}\")"
   ],
   "id": "651d35b1c3fdc69b",
   "outputs": [
    {
     "name": "stdout",
     "output_type": "stream",
     "text": [
      "OA2021       : 26,369\n",
      "LSOA2021     : 4,994\n",
      "MSOA2021     : 1,002\n",
      "Ward2024     : 684\n",
      "LAD2022      : 33\n",
      "Unchanged LSOA: 4,660\n"
     ]
    }
   ],
   "execution_count": 21
  }
 ],
 "metadata": {
  "kernelspec": {
   "display_name": "Python 3",
   "language": "python",
   "name": "python3"
  },
  "language_info": {
   "codemirror_mode": {
    "name": "ipython",
    "version": 2
   },
   "file_extension": ".py",
   "mimetype": "text/x-python",
   "name": "python",
   "nbconvert_exporter": "python",
   "pygments_lexer": "ipython2",
   "version": "2.7.6"
  }
 },
 "nbformat": 4,
 "nbformat_minor": 5
}
