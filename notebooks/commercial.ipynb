{
 "cells": [
  {
   "cell_type": "code",
   "id": "initial_id",
   "metadata": {
    "collapsed": true,
    "ExecuteTime": {
     "end_time": "2025-05-25T21:37:56.429627Z",
     "start_time": "2025-05-25T21:37:56.424660Z"
    }
   },
   "source": "import pandas as pd",
   "outputs": [],
   "execution_count": 9
  },
  {
   "metadata": {
    "ExecuteTime": {
     "end_time": "2025-05-25T21:37:56.833069Z",
     "start_time": "2025-05-25T21:37:56.444654Z"
    }
   },
   "cell_type": "code",
   "source": "df = pd.read_csv(\"../data/geo/lsoa_land_cover.csv\")",
   "id": "7c63b9ccdf432a98",
   "outputs": [],
   "execution_count": 10
  },
  {
   "metadata": {
    "ExecuteTime": {
     "end_time": "2025-05-25T21:37:56.955234Z",
     "start_time": "2025-05-25T21:37:56.853455Z"
    }
   },
   "cell_type": "code",
   "source": [
    "res_cols_2018 = [\n",
    "    \"Continuous urban fabric [111] (2018)\",\n",
    "    \"Discontinuous urban fabric [112] (2018)\"\n",
    "]\n",
    "\n",
    "df[\"residential_pct_2018\"] = df[res_cols_2018].sum(axis=1)\n",
    "\n",
    "output_df = df[[\"LSOA11CD\", \"LSOA11NM\", \"residential_pct_2018\"]]\n",
    "\n",
    "output_df.to_csv(\"../data/geo/lsoa_residential_percent_2018.csv\", index=False)"
   ],
   "id": "6e64d3c12c80d4f2",
   "outputs": [],
   "execution_count": 11
  }
 ],
 "metadata": {
  "kernelspec": {
   "display_name": "Python 3",
   "language": "python",
   "name": "python3"
  },
  "language_info": {
   "codemirror_mode": {
    "name": "ipython",
    "version": 2
   },
   "file_extension": ".py",
   "mimetype": "text/x-python",
   "name": "python",
   "nbconvert_exporter": "python",
   "pygments_lexer": "ipython2",
   "version": "2.7.6"
  }
 },
 "nbformat": 4,
 "nbformat_minor": 5
}
