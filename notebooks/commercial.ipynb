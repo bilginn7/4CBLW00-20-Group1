{
 "cells": [
  {
   "cell_type": "code",
   "id": "initial_id",
   "metadata": {
    "collapsed": true,
    "ExecuteTime": {
     "end_time": "2025-05-26T20:27:33.107866Z",
     "start_time": "2025-05-26T20:27:32.541295Z"
    }
   },
   "source": "import pandas as pd",
   "outputs": [],
   "execution_count": 1
  },
  {
   "metadata": {
    "ExecuteTime": {
     "end_time": "2025-05-26T20:27:34.411676Z",
     "start_time": "2025-05-26T20:27:34.023238Z"
    }
   },
   "cell_type": "code",
   "source": "df = pd.read_csv(\"../data/geo/lsoa_land_cover.csv\")",
   "id": "7c63b9ccdf432a98",
   "outputs": [],
   "execution_count": 2
  },
  {
   "metadata": {
    "ExecuteTime": {
     "end_time": "2025-05-26T20:27:35.699718Z",
     "start_time": "2025-05-26T20:27:35.618051Z"
    }
   },
   "cell_type": "code",
   "source": [
    "res_cols_2018 = [\n",
    "    \"Continuous urban fabric [111] (2018)\",\n",
    "    \"Discontinuous urban fabric [112] (2018)\"\n",
    "]\n",
    "\n",
    "df[\"residential_pct_2018\"] = df[res_cols_2018].sum(axis=1)\n",
    "\n",
    "output_df = df[[\"LSOA11CD\", \"LSOA11NM\", \"residential_pct_2018\"]]\n",
    "\n",
    "output_df.to_csv(\"../data/geo/lsoa_residential_percent_2018.csv\", index=False)"
   ],
   "id": "6e64d3c12c80d4f2",
   "outputs": [],
   "execution_count": 3
  },
  {
   "metadata": {
    "ExecuteTime": {
     "end_time": "2025-05-26T20:27:36.992606Z",
     "start_time": "2025-05-26T20:27:36.778828Z"
    }
   },
   "cell_type": "code",
   "source": [
    "codes_2021 = pd.read_parquet(\"../data/london_areas_lookup.parquet\", engine='fastparquet')\n",
    "lookup_mapping = codes_2021.drop_duplicates('LSOA11CD').set_index('LSOA11CD')['LSOA21CD'].to_dict()\n",
    "\n",
    "df['LSOA21CD'] = df['LSOA11CD'].map(lookup_mapping)"
   ],
   "id": "1fa9a3247eeee772",
   "outputs": [],
   "execution_count": 4
  },
  {
   "metadata": {
    "ExecuteTime": {
     "end_time": "2025-05-26T20:27:38.061252Z",
     "start_time": "2025-05-26T20:27:38.022234Z"
    }
   },
   "cell_type": "code",
   "source": [
    "cols_2018 = [col for col in df.columns if '(2018)' in col]\n",
    "non_res_cols = [col for col in cols_2018 if col not in res_cols_2018]\n",
    "\n",
    "df[\"max_non_residential_pct\"] = df[non_res_cols].max(axis=1)\n",
    "df[\"is_residential_dominant\"] = df[\"residential_pct_2018\"] > df[\"max_non_residential_pct\"]\n",
    "df[\"residential_advantage\"] = df[\"residential_pct_2018\"] - df[\"max_non_residential_pct\"]\n",
    "\n",
    "london_df = df[df['LSOA21CD'].notna()]\n",
    "\n",
    "output_df2 = london_df[[\"LSOA11CD\", \"LSOA21CD\", \"LSOA11NM\", \"residential_pct_2018\", \"is_residential_dominant\", \"residential_advantage\"]]\n",
    "output_df2.to_csv(\"../data/geo/lsoa_residential_classification_2018.csv\", index=False)"
   ],
   "id": "5d648d3dddeb1517",
   "outputs": [],
   "execution_count": 5
  }
 ],
 "metadata": {
  "kernelspec": {
   "display_name": "Python 3",
   "language": "python",
   "name": "python3"
  },
  "language_info": {
   "codemirror_mode": {
    "name": "ipython",
    "version": 2
   },
   "file_extension": ".py",
   "mimetype": "text/x-python",
   "name": "python",
   "nbconvert_exporter": "python",
   "pygments_lexer": "ipython2",
   "version": "2.7.6"
  }
 },
 "nbformat": 4,
 "nbformat_minor": 5
}
